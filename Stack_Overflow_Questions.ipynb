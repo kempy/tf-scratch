{
  "nbformat": 4,
  "nbformat_minor": 0,
  "metadata": {
    "colab": {
      "name": "Stack Overflow Questions",
      "version": "0.3.2",
      "provenance": [],
      "collapsed_sections": [],
      "include_colab_link": true
    },
    "kernelspec": {
      "name": "python3",
      "display_name": "Python 3"
    }
  },
  "cells": [
    {
      "cell_type": "markdown",
      "metadata": {
        "id": "view-in-github",
        "colab_type": "text"
      },
      "source": [
        "<a href=\"https://colab.research.google.com/github/kempy/tf-scratch/blob/master/Stack_Overflow_Questions.ipynb\" target=\"_parent\"><img src=\"https://colab.research.google.com/assets/colab-badge.svg\" alt=\"Open In Colab\"/></a>"
      ]
    },
    {
      "metadata": {
        "id": "bNskuBVrYwp6",
        "colab_type": "text"
      },
      "cell_type": "markdown",
      "source": [
        "### [What's the equivalent of this Numpy code in TensorFlow?](https://stackoverflow.com/questions/55839030/whats-the-equivalent-of-this-numpy-code-in-tensorflow/55839581#55839581)\n",
        "\n",
        "I am manipulating Numpy arrays, and the code looks like the following:\n",
        "\n",
        "    z[np.arange(n), y]\n",
        "    \n",
        "Where z is a 2d array, y is a 1d array. Further, z.shape[0] == y.shape[0] == n.\n",
        "\n",
        "How can I do equivalent things to TensorFlow tensors?"
      ]
    },
    {
      "metadata": {
        "id": "bM-ly4N0Yojw",
        "colab_type": "code",
        "colab": {
          "base_uri": "https://localhost:8080/",
          "height": 187
        },
        "outputId": "fec7bb0c-45cc-4901-f2f9-4da1d88cb227"
      },
      "cell_type": "code",
      "source": [
        "import numpy as np\n",
        "import tensorflow as tf\n",
        "\n",
        "n = 3\n",
        "z = np.array([[1, 2, 3], [4, 5, 6], [7, 8, 9]])\n",
        "y = np.array([0, 1, 1])\n",
        "\n",
        "assert z.shape[0] == y.shape[0] == n\n",
        "\n",
        "# Numpy implementation\n",
        "np_out = z[np.arange(n), y]\n",
        "\n",
        "# TF implementation\n",
        "tf.reset_default_graph()\n",
        "\n",
        "range_t = tf.range(n) # Equiv to np.arange\n",
        "x_y = tf.stack([range_t, y], axis=1) # Get (x,y) as a tuple\n",
        "pick_by_index_from_z = tf.gather_nd(z, x_y) # Pick the right values from z\n",
        "\n",
        "with tf.Session() as sess:\n",
        "  tf_out = sess.run(pick_by_index_from_z)\n",
        "\n",
        "# The np and tf implementations should be the same\n",
        "assert (np_out == tf_out).all()\n",
        "\n",
        "print('z:')\n",
        "print(z)\n",
        "print('\\nnp_out:')\n",
        "print(np_out)\n",
        "print('\\ntf_out:')\n",
        "print(tf_out)"
      ],
      "execution_count": 28,
      "outputs": [
        {
          "output_type": "stream",
          "text": [
            "z:\n",
            "[[1 2 3]\n",
            " [4 5 6]\n",
            " [7 8 9]]\n",
            "\n",
            "np_out:\n",
            "[1 5 8]\n",
            "\n",
            "tf_out:\n",
            "[1 5 8]\n"
          ],
          "name": "stdout"
        }
      ]
    }
  ]
}