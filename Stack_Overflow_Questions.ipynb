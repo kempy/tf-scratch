{
  "nbformat": 4,
  "nbformat_minor": 0,
  "metadata": {
    "colab": {
      "name": "Stack Overflow Questions",
      "version": "0.3.2",
      "provenance": [],
      "collapsed_sections": [],
      "include_colab_link": true
    },
    "kernelspec": {
      "name": "python3",
      "display_name": "Python 3"
    }
  },
  "cells": [
    {
      "cell_type": "markdown",
      "metadata": {
        "id": "view-in-github",
        "colab_type": "text"
      },
      "source": [
        "<a href=\"https://colab.research.google.com/github/kempy/tf-scratch/blob/master/Stack_Overflow_Questions.ipynb\" target=\"_parent\"><img src=\"https://colab.research.google.com/assets/colab-badge.svg\" alt=\"Open In Colab\"/></a>"
      ]
    },
    {
      "metadata": {
        "id": "bNskuBVrYwp6",
        "colab_type": "text"
      },
      "cell_type": "markdown",
      "source": [
        "### [What's the equivalent of this Numpy code in TensorFlow?](https://stackoverflow.com/questions/55839030/whats-the-equivalent-of-this-numpy-code-in-tensorflow/55839581#55839581)\n",
        "\n",
        "I am manipulating Numpy arrays, and the code looks like the following:\n",
        "\n",
        "    z[np.arange(n), y]\n",
        "    \n",
        "Where z is a 2d array, y is a 1d array. Further, z.shape[0] == y.shape[0] == n.\n",
        "\n",
        "How can I do equivalent things to TensorFlow tensors?"
      ]
    },
    {
      "metadata": {
        "id": "bM-ly4N0Yojw",
        "colab_type": "code",
        "outputId": "fec7bb0c-45cc-4901-f2f9-4da1d88cb227",
        "colab": {
          "base_uri": "https://localhost:8080/",
          "height": 187
        }
      },
      "cell_type": "code",
      "source": [
        "import numpy as np\n",
        "import tensorflow as tf\n",
        "\n",
        "n = 3\n",
        "z = np.array([[1, 2, 3], [4, 5, 6], [7, 8, 9]])\n",
        "y = np.array([0, 1, 1])\n",
        "\n",
        "assert z.shape[0] == y.shape[0] == n\n",
        "\n",
        "# Numpy implementation\n",
        "np_out = z[np.arange(n), y]\n",
        "\n",
        "# TF implementation\n",
        "tf.reset_default_graph()\n",
        "\n",
        "range_t = tf.range(n) # Equiv to np.arange\n",
        "x_y = tf.stack([range_t, y], axis=1) # Get (x,y) as a tuple\n",
        "pick_by_index_from_z = tf.gather_nd(z, x_y) # Pick the right values from z\n",
        "\n",
        "with tf.Session() as sess:\n",
        "  tf_out = sess.run(pick_by_index_from_z)\n",
        "\n",
        "# The np and tf implementations should be the same\n",
        "assert (np_out == tf_out).all()\n",
        "\n",
        "print('z:')\n",
        "print(z)\n",
        "print('\\nnp_out:')\n",
        "print(np_out)\n",
        "print('\\ntf_out:')\n",
        "print(tf_out)"
      ],
      "execution_count": 0,
      "outputs": [
        {
          "output_type": "stream",
          "text": [
            "z:\n",
            "[[1 2 3]\n",
            " [4 5 6]\n",
            " [7 8 9]]\n",
            "\n",
            "np_out:\n",
            "[1 5 8]\n",
            "\n",
            "tf_out:\n",
            "[1 5 8]\n"
          ],
          "name": "stdout"
        }
      ]
    },
    {
      "metadata": {
        "id": "c5B5ztw4Ov3M",
        "colab_type": "text"
      },
      "cell_type": "markdown",
      "source": [
        "### [Mask tensors parts in tensorflow, data augmentation](https://stackoverflow.com/questions/55853681/mask-tensors-parts-in-tensorflow-data-augmentation)"
      ]
    },
    {
      "metadata": {
        "id": "nBJ_EeTmOslt",
        "colab_type": "code",
        "outputId": "0815f10e-f07b-4e92-c228-ef74f524ae6b",
        "colab": {
          "base_uri": "https://localhost:8080/",
          "height": 544
        }
      },
      "cell_type": "code",
      "source": [
        "import numpy as np\n",
        "import tensorflow as tf\n",
        "\n",
        "# Feature dimensions\n",
        "unknown_size = 3\n",
        "feature_dim = 26\n",
        "\n",
        "tf.reset_default_graph()\n",
        "\n",
        "# features_input has dynamic first dimension\n",
        "features_input = tf.placeholder(tf.int32, shape=(None, feature_dim))\n",
        "\n",
        "# ones_like should work fine with argument of shape (?, 26)\n",
        "batched_ones = tf.ones_like(features_input)\n",
        "\n",
        "# dynamically get the shape of the features_input\n",
        "time_len = tf.shape(features_input)[0]\n",
        "time_start = tf.random.uniform(\n",
        "    shape=(), minval=0, maxval=time_len, dtype=tf.int32)\n",
        "\n",
        "print('Shapes at graph construction time:')\n",
        "print('\\nfeatures_input.shape:')\n",
        "print(features_input.shape)\n",
        "print('\\nbatched_ones.shape:')\n",
        "print(batched_ones.shape)\n",
        "print('\\ntime_start.shape:')\n",
        "print(time_start.shape)\n",
        "\n",
        "with tf.Session() as sess:\n",
        "  # Create some input data\n",
        "  features = np.arange(feature_dim)\n",
        "  batched_features = np.tile(features, (unknown_size, 1))\n",
        "  \n",
        "  # Evaluate the tensors\n",
        "  features_out, ones_out, time_start_out = sess.run(\n",
        "      [features_input, batched_ones, time_start],\n",
        "      feed_dict={features_input: batched_features})\n",
        "\n",
        "# Print out what the output looks like\n",
        "print('\\nOutput:')\n",
        "print('\\nFeatures:')\n",
        "\n",
        "print(features_out)\n",
        "print('shape:', features_out.shape)\n",
        "\n",
        "print('\\nOnes:')\n",
        "print(ones_out)\n",
        "print('shape:', ones_out.shape)\n",
        "\n",
        "print('\\nRandom between 0 and unknown_size:')\n",
        "print(time_start_out)\n",
        "print('shape:', time_start_out.shape)"
      ],
      "execution_count": 0,
      "outputs": [
        {
          "output_type": "stream",
          "text": [
            "Shapes at graph construction time:\n",
            "\n",
            "features_input.shape:\n",
            "(?, 26)\n",
            "\n",
            "batched_ones.shape:\n",
            "(?, 26)\n",
            "\n",
            "time_start.shape:\n",
            "()\n",
            "\n",
            "Output:\n",
            "\n",
            "Features:\n",
            "[[ 0  1  2  3  4  5  6  7  8  9 10 11 12 13 14 15 16 17 18 19 20 21 22 23\n",
            "  24 25]\n",
            " [ 0  1  2  3  4  5  6  7  8  9 10 11 12 13 14 15 16 17 18 19 20 21 22 23\n",
            "  24 25]\n",
            " [ 0  1  2  3  4  5  6  7  8  9 10 11 12 13 14 15 16 17 18 19 20 21 22 23\n",
            "  24 25]]\n",
            "shape: (3, 26)\n",
            "\n",
            "Ones:\n",
            "[[1 1 1 1 1 1 1 1 1 1 1 1 1 1 1 1 1 1 1 1 1 1 1 1 1 1]\n",
            " [1 1 1 1 1 1 1 1 1 1 1 1 1 1 1 1 1 1 1 1 1 1 1 1 1 1]\n",
            " [1 1 1 1 1 1 1 1 1 1 1 1 1 1 1 1 1 1 1 1 1 1 1 1 1 1]]\n",
            "shape: (3, 26)\n",
            "\n",
            "Random between 0 and unknown_size:\n",
            "0\n",
            "shape: ()\n"
          ],
          "name": "stdout"
        }
      ]
    }
  ]
}