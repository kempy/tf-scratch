{
  "nbformat": 4,
  "nbformat_minor": 0,
  "metadata": {
    "colab": {
      "name": "Text vs. byte format protocol buffers",
      "version": "0.3.2",
      "provenance": [],
      "collapsed_sections": [],
      "include_colab_link": true
    },
    "kernelspec": {
      "name": "python3",
      "display_name": "Python 3"
    }
  },
  "cells": [
    {
      "cell_type": "markdown",
      "metadata": {
        "id": "view-in-github",
        "colab_type": "text"
      },
      "source": [
        "<a href=\"https://colab.research.google.com/github/kempy/tf-scratch/blob/master/text_proto_buffs.ipynb\" target=\"_parent\"><img src=\"https://colab.research.google.com/assets/colab-badge.svg\" alt=\"Open In Colab\"/></a>"
      ]
    },
    {
      "cell_type": "code",
      "metadata": {
        "id": "AZOkL64_MTiF",
        "colab_type": "code",
        "colab": {}
      },
      "source": [
        "import tensorflow as tf\n",
        "from google.protobuf import text_format"
      ],
      "execution_count": 0,
      "outputs": []
    },
    {
      "cell_type": "markdown",
      "metadata": {
        "id": "aZG35maxo5YA",
        "colab_type": "text"
      },
      "source": [
        "# Text format vs. byte format proto buf"
      ]
    },
    {
      "cell_type": "code",
      "metadata": {
        "id": "t7AfVqNRhwfs",
        "colab_type": "code",
        "colab": {
          "base_uri": "https://localhost:8080/",
          "height": 1000
        },
        "outputId": "882e9a8c-a970-469a-9574-c942432f3759"
      },
      "source": [
        "text_format_example = \"\"\"features {\n",
        "  feature {\n",
        "    key: \"var4\"\n",
        "    value {\n",
        "      bytes_list {\n",
        "        value: \"43\"\n",
        "        value: \"65\"\n",
        "        value: \"89\"\n",
        "        value: \"02\"\n",
        "      }\n",
        "    }\n",
        "  }\n",
        "  feature {\n",
        "    key: \"var3\"\n",
        "    value {\n",
        "      bytes_list {\n",
        "        value: \"0123194\"\n",
        "      }\n",
        "    }\n",
        "  }\n",
        "  feature {\n",
        "    key: \"var2\"\n",
        "    value {\n",
        "      bytes_list {\n",
        "        value: \"1243\"\n",
        "      }\n",
        "    }\n",
        "  }\n",
        "  feature {\n",
        "    key: \"var1\"\n",
        "    value {\n",
        "      bytes_list {\n",
        "        value: \"54\"\n",
        "      }\n",
        "    }\n",
        "  }\n",
        "}\"\"\"\n",
        "\n",
        "proto_buf = text_format.Merge(text_format_example, tf.train.Example())\n",
        "serialized_as_byte_string = proto_buf.SerializeToString()\n",
        "print('text_format_example:')\n",
        "print(text_format_example)\n",
        "print('\\n\\nproto_buf:')\n",
        "print(proto_buf)\n",
        "print('\\n\\nserialized_as_byte_string:')\n",
        "print(serialized_as_byte_string)"
      ],
      "execution_count": 33,
      "outputs": [
        {
          "output_type": "stream",
          "text": [
            "text_format_example:\n",
            "features {\n",
            "  feature {\n",
            "    key: \"var4\"\n",
            "    value {\n",
            "      bytes_list {\n",
            "        value: \"43\"\n",
            "        value: \"65\"\n",
            "        value: \"89\"\n",
            "        value: \"02\"\n",
            "      }\n",
            "    }\n",
            "  }\n",
            "  feature {\n",
            "    key: \"var3\"\n",
            "    value {\n",
            "      bytes_list {\n",
            "        value: \"0123194\"\n",
            "      }\n",
            "    }\n",
            "  }\n",
            "  feature {\n",
            "    key: \"var2\"\n",
            "    value {\n",
            "      bytes_list {\n",
            "        value: \"1243\"\n",
            "      }\n",
            "    }\n",
            "  }\n",
            "  feature {\n",
            "    key: \"var1\"\n",
            "    value {\n",
            "      bytes_list {\n",
            "        value: \"54\"\n",
            "      }\n",
            "    }\n",
            "  }\n",
            "}\n",
            "\n",
            "\n",
            "proto_buf:\n",
            "features {\n",
            "  feature {\n",
            "    key: \"var1\"\n",
            "    value {\n",
            "      bytes_list {\n",
            "        value: \"54\"\n",
            "      }\n",
            "    }\n",
            "  }\n",
            "  feature {\n",
            "    key: \"var2\"\n",
            "    value {\n",
            "      bytes_list {\n",
            "        value: \"1243\"\n",
            "      }\n",
            "    }\n",
            "  }\n",
            "  feature {\n",
            "    key: \"var3\"\n",
            "    value {\n",
            "      bytes_list {\n",
            "        value: \"0123194\"\n",
            "      }\n",
            "    }\n",
            "  }\n",
            "  feature {\n",
            "    key: \"var4\"\n",
            "    value {\n",
            "      bytes_list {\n",
            "        value: \"43\"\n",
            "        value: \"65\"\n",
            "        value: \"89\"\n",
            "        value: \"02\"\n",
            "      }\n",
            "    }\n",
            "  }\n",
            "}\n",
            "\n",
            "\n",
            "\n",
            "serialized_as_byte_string:\n",
            "b'\\nS\\n\\x1a\\n\\x04var4\\x12\\x12\\n\\x10\\n\\x0243\\n\\x0265\\n\\x0289\\n\\x0202\\n\\x0e\\n\\x04var1\\x12\\x06\\n\\x04\\n\\x0254\\n\\x10\\n\\x04var2\\x12\\x08\\n\\x06\\n\\x041243\\n\\x13\\n\\x04var3\\x12\\x0b\\n\\t\\n\\x070123194'\n"
          ],
          "name": "stdout"
        }
      ]
    },
    {
      "cell_type": "markdown",
      "metadata": {
        "id": "KyTpYqFPoy_7",
        "colab_type": "text"
      },
      "source": [
        "# Check that is was properly serialized"
      ]
    },
    {
      "cell_type": "code",
      "metadata": {
        "id": "neUsPagxox0B",
        "colab_type": "code",
        "colab": {}
      },
      "source": [
        "example = proto_buf\n",
        "as_string = example.SerializeToString()\n",
        "print(as_string)\n",
        "as_example = tf.train.Example.FromString(as_string)\n",
        "print(as_example)"
      ],
      "execution_count": 0,
      "outputs": []
    }
  ]
}